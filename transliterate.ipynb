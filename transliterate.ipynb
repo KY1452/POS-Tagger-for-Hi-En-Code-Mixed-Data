{
 "cells": [
  {
   "cell_type": "code",
   "execution_count": 1,
   "metadata": {},
   "outputs": [],
   "source": [
    "from indic_transliteration import sanscript\n",
    "from indic_transliteration.sanscript import transliterate"
   ]
  },
  {
   "cell_type": "code",
   "execution_count": 2,
   "metadata": {},
   "outputs": [
    {
     "name": "stdout",
     "output_type": "stream",
     "text": [
      "आप सभी का यहान् स्वागत् है।\n"
     ]
    }
   ],
   "source": [
    "# the text to be transliterated\n",
    "text = \"Apa sabhii kaa yahaan svaagat hai.\"\n",
    "  \n",
    "# printing the transliterated text\n",
    "print(transliterate(text, sanscript.ITRANS, sanscript.DEVANAGARI))"
   ]
  },
  {
   "cell_type": "code",
   "execution_count": null,
   "metadata": {},
   "outputs": [],
   "source": [
    "import fasttext\n",
    "import fasttext.util\n",
    "ft = fasttext.load_model('wiki.hi.bin')\n",
    "word = \"नृत्य\"\n",
    "print(\"Embedding Shape is {}\".format(ft.get_word_vector(word).shape))\n",
    "print(\"Nearest Neighbors to {} are:\".format(word))\n",
    "ft.get_nearest_neighbors(word)"
   ]
  }
 ],
 "metadata": {
  "kernelspec": {
   "display_name": "Python 3.10.1 64-bit",
   "language": "python",
   "name": "python3"
  },
  "language_info": {
   "codemirror_mode": {
    "name": "ipython",
    "version": 3
   },
   "file_extension": ".py",
   "mimetype": "text/x-python",
   "name": "python",
   "nbconvert_exporter": "python",
   "pygments_lexer": "ipython3",
   "version": "3.10.1"
  },
  "orig_nbformat": 4,
  "vscode": {
   "interpreter": {
    "hash": "d3e10ef16274dd72e574b8fa73b58450b957d8421a2901baded3cca26fcf5dda"
   }
  }
 },
 "nbformat": 4,
 "nbformat_minor": 2
}
