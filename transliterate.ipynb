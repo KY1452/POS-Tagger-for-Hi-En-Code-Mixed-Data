{
 "cells": [
  {
   "cell_type": "code",
   "execution_count": 1,
   "metadata": {},
   "outputs": [
    {
     "name": "stdout",
     "output_type": "stream",
     "text": [
      "आप सभी का यहान् स्वागत् है।\n"
     ]
    }
   ],
   "source": [
    "from indic_transliteration import sanscript\n",
    "from indic_transliteration.sanscript import transliterate\n",
    "# the text to be transliterated\n",
    "text = \"Apa sabhii kaa yahaan svaagat hai.\"\n",
    "\n",
    "# printing the transliterated text\n",
    "print(transliterate(text, sanscript.ITRANS, sanscript.DEVANAGARI))"
   ]
  },
  {
   "cell_type": "code",
   "execution_count": 1,
   "metadata": {},
   "outputs": [
    {
     "name": "stderr",
     "output_type": "stream",
     "text": [
      "Warning : `load_model` does not return WordVectorModel or SupervisedModel any more, but a `FastText` object which is very similar.\n"
     ]
    },
    {
     "name": "stdout",
     "output_type": "stream",
     "text": [
      "Embedding Shape is (300,)\n",
      "Nearest Neighbors to नृत्य are:\n"
     ]
    },
    {
     "data": {
      "text/plain": [
       "[(0.6320489048957825, 'नृत्यक'),\n",
       " (0.6278061270713806, 'नृत्य2'),\n",
       " (0.6266983151435852, 'नृत्यअरब'),\n",
       " (0.6263230443000793, 'नृत्'),\n",
       " (0.6199936866760254, 'नृत्यला'),\n",
       " (0.6189307570457458, 'नृत्यः'),\n",
       " (0.6153866052627563, 'नृत्यि'),\n",
       " (0.6140086054801941, 'नृत्यों'),\n",
       " (0.6115236282348633, 'नृत्यहै'),\n",
       " (0.5996174812316895, 'नृत्यलीन')]"
      ]
     },
     "execution_count": 1,
     "metadata": {},
     "output_type": "execute_result"
    }
   ],
   "source": [
    "import fasttext\n",
    "# import fasttext.util\n",
    "# ft = fasttext.load_model('cc.en.300.bin')\n",
    "ft = fasttext.load_model(\"cc.hi.300.bin\")\n",
    "word = \"नृत्य\"\n",
    "print(\"Embedding Shape is {}\".format(ft.get_word_vector(word).shape))\n",
    "print(\"Nearest Neighbors to {} are:\".format(word))\n",
    "ft.get_nearest_neighbors(word) "
   ]
  },
  {
   "cell_type": "code",
   "execution_count": null,
   "metadata": {},
   "outputs": [],
   "source": [
    "import os\n",
    "print(os.__file__)"
   ]
  },
  {
   "cell_type": "code",
   "execution_count": 2,
   "metadata": {},
   "outputs": [
    {
     "data": {
      "text/plain": [
       "[(0.7130889296531677, 'तो'),\n",
       " (0.7005718350410461, 'हम'),\n",
       " (0.628129243850708, 'भी'),\n",
       " (0.6236525774002075, 'सब'),\n",
       " (0.6136167049407959, 'अब'),\n",
       " (0.6038362979888916, 'वो'),\n",
       " (0.6018581986427307, 'ये'),\n",
       " (0.5929937362670898, 'वे'),\n",
       " (0.5864280462265015, 'कह'),\n",
       " (0.5848820209503174, 'अगर')]"
      ]
     },
     "execution_count": 2,
     "metadata": {},
     "output_type": "execute_result"
    }
   ],
   "source": [
    "word = \"आप\"\n",
    "ft.get_nearest_neighbors(word) "
   ]
  },
  {
   "cell_type": "code",
   "execution_count": 2,
   "metadata": {},
   "outputs": [
    {
     "name": "stderr",
     "output_type": "stream",
     "text": [
      "Warning : `load_model` does not return WordVectorModel or SupervisedModel any more, but a `FastText` object which is very similar.\n"
     ]
    },
    {
     "data": {
      "text/plain": [
       "(('__label__en',\n",
       "  '__label__ru',\n",
       "  '__label__ba',\n",
       "  '__label__ky',\n",
       "  '__label__te',\n",
       "  '__label__fr',\n",
       "  '__label__mk',\n",
       "  '__label__ce',\n",
       "  '__label__sr',\n",
       "  '__label__bn'),\n",
       " array([0.36570805, 0.29583159, 0.04411032, 0.03148935, 0.02902166,\n",
       "        0.02741385, 0.018887  , 0.01885832, 0.01600219, 0.01597916]))"
      ]
     },
     "execution_count": 2,
     "metadata": {},
     "output_type": "execute_result"
    }
   ],
   "source": [
    "import fasttext\n",
    "pretrained_lang_model = \"lid.176.bin\"\n",
    "model = fasttext.load_model(pretrained_lang_model)\n",
    "predictions = model.predict(\"kya\", k=10) # returns top 2 matching languages\n",
    "predictions\n",
    "\n",
    "\n"
   ]
  },
  {
   "cell_type": "code",
   "execution_count": null,
   "metadata": {},
   "outputs": [],
   "source": []
  }
 ],
 "metadata": {
  "kernelspec": {
   "display_name": "Python 3.8.10 64-bit",
   "language": "python",
   "name": "python3"
  },
  "language_info": {
   "codemirror_mode": {
    "name": "ipython",
    "version": 3
   },
   "file_extension": ".py",
   "mimetype": "text/x-python",
   "name": "python",
   "nbconvert_exporter": "python",
   "pygments_lexer": "ipython3",
   "version": "3.8.10"
  },
  "orig_nbformat": 4,
  "vscode": {
   "interpreter": {
    "hash": "916dbcbb3f70747c44a77c7bcd40155683ae19c65e1c03b4aa3499c5328201f1"
   }
  }
 },
 "nbformat": 4,
 "nbformat_minor": 2
}
